{
 "cells": [
  {
   "cell_type": "markdown",
   "id": "2a57aa3d",
   "metadata": {},
   "source": [
    "# Extract Apriori rules for the testing set"
   ]
  },
  {
   "cell_type": "markdown",
   "id": "6bc4be68",
   "metadata": {},
   "source": [
    "### Test Project (Stereo)\n",
    "A user must be able to login. \n",
    "A user must be able to create an account by providing an email and a password.  \n",
    "A user must be able to add a song to his playlist.  \n",
    "A user must be able to add personal info to his profile.  \n",
    "A user must be able to create a playlist.  \n",
    "A user must be able to follow a user.  \n",
    "A user must be able to search using a keyword."
   ]
  },
  {
   "cell_type": "code",
   "execution_count": 2,
   "id": "196450bc",
   "metadata": {},
   "outputs": [],
   "source": [
    "import pandas as pd\n",
    "from ontology import ontology"
   ]
  },
  {
   "cell_type": "code",
   "execution_count": 3,
   "id": "984202c2",
   "metadata": {},
   "outputs": [],
   "source": [
    "inputPath = 'C:/Users/anast/Desktop/testData.txt'\n",
    "outputPath = 'C:/Users/anast/Desktop/Results/ao-aa-f.csv'"
   ]
  },
  {
   "cell_type": "markdown",
   "id": "06e5ee2d",
   "metadata": {},
   "source": [
    "### Load the rules from the file"
   ]
  },
  {
   "cell_type": "code",
   "execution_count": 4,
   "id": "69967d51",
   "metadata": {},
   "outputs": [
    {
     "data": {
      "text/html": [
       "<div>\n",
       "<style scoped>\n",
       "    .dataframe tbody tr th:only-of-type {\n",
       "        vertical-align: middle;\n",
       "    }\n",
       "\n",
       "    .dataframe tbody tr th {\n",
       "        vertical-align: top;\n",
       "    }\n",
       "\n",
       "    .dataframe thead th {\n",
       "        text-align: right;\n",
       "    }\n",
       "</style>\n",
       "<table border=\"1\" class=\"dataframe\">\n",
       "  <thead>\n",
       "    <tr style=\"text-align: right;\">\n",
       "      <th></th>\n",
       "      <th>Left Hand Side</th>\n",
       "      <th>Right Hand Side</th>\n",
       "      <th>Support</th>\n",
       "      <th>Confidence</th>\n",
       "      <th>Lift</th>\n",
       "    </tr>\n",
       "  </thead>\n",
       "  <tbody>\n",
       "    <tr>\n",
       "      <th>0</th>\n",
       "      <td>accept/order</td>\n",
       "      <td>search/restaurant</td>\n",
       "      <td>0.01626</td>\n",
       "      <td>1.000000</td>\n",
       "      <td>61.500000</td>\n",
       "    </tr>\n",
       "    <tr>\n",
       "      <th>1</th>\n",
       "      <td>accept/order</td>\n",
       "      <td>user/search</td>\n",
       "      <td>0.01626</td>\n",
       "      <td>1.000000</td>\n",
       "      <td>2.928571</td>\n",
       "    </tr>\n",
       "    <tr>\n",
       "      <th>2</th>\n",
       "      <td>accept/order</td>\n",
       "      <td>user/submit</td>\n",
       "      <td>0.01626</td>\n",
       "      <td>1.000000</td>\n",
       "      <td>24.600000</td>\n",
       "    </tr>\n",
       "    <tr>\n",
       "      <th>3</th>\n",
       "      <td>accept/request</td>\n",
       "      <td>reject/request</td>\n",
       "      <td>0.01626</td>\n",
       "      <td>0.666667</td>\n",
       "      <td>41.000000</td>\n",
       "    </tr>\n",
       "    <tr>\n",
       "      <th>4</th>\n",
       "      <td>accept/request</td>\n",
       "      <td>system/notify</td>\n",
       "      <td>0.01626</td>\n",
       "      <td>0.666667</td>\n",
       "      <td>5.857143</td>\n",
       "    </tr>\n",
       "    <tr>\n",
       "      <th>5</th>\n",
       "      <td>access/datum</td>\n",
       "      <td>include/record</td>\n",
       "      <td>0.01626</td>\n",
       "      <td>1.000000</td>\n",
       "      <td>61.500000</td>\n",
       "    </tr>\n",
       "    <tr>\n",
       "      <th>6</th>\n",
       "      <td>access/documentation</td>\n",
       "      <td>have/summary</td>\n",
       "      <td>0.01626</td>\n",
       "      <td>1.000000</td>\n",
       "      <td>41.000000</td>\n",
       "    </tr>\n",
       "    <tr>\n",
       "      <th>7</th>\n",
       "      <td>access/file</td>\n",
       "      <td>add/datum</td>\n",
       "      <td>0.01626</td>\n",
       "      <td>0.666667</td>\n",
       "      <td>16.400000</td>\n",
       "    </tr>\n",
       "    <tr>\n",
       "      <th>8</th>\n",
       "      <td>access/file</td>\n",
       "      <td>download/file</td>\n",
       "      <td>0.02439</td>\n",
       "      <td>1.000000</td>\n",
       "      <td>24.600000</td>\n",
       "    </tr>\n",
       "    <tr>\n",
       "      <th>9</th>\n",
       "      <td>access/file</td>\n",
       "      <td>get/result</td>\n",
       "      <td>0.01626</td>\n",
       "      <td>0.666667</td>\n",
       "      <td>27.333333</td>\n",
       "    </tr>\n",
       "  </tbody>\n",
       "</table>\n",
       "</div>"
      ],
      "text/plain": [
       "         Left Hand Side    Right Hand Side  Support  Confidence       Lift\n",
       "0          accept/order  search/restaurant  0.01626    1.000000  61.500000\n",
       "1          accept/order        user/search  0.01626    1.000000   2.928571\n",
       "2          accept/order        user/submit  0.01626    1.000000  24.600000\n",
       "3        accept/request     reject/request  0.01626    0.666667  41.000000\n",
       "4        accept/request      system/notify  0.01626    0.666667   5.857143\n",
       "5          access/datum     include/record  0.01626    1.000000  61.500000\n",
       "6  access/documentation       have/summary  0.01626    1.000000  41.000000\n",
       "7           access/file          add/datum  0.01626    0.666667  16.400000\n",
       "8           access/file      download/file  0.02439    1.000000  24.600000\n",
       "9           access/file         get/result  0.01626    0.666667  27.333333"
      ]
     },
     "execution_count": 4,
     "metadata": {},
     "output_type": "execute_result"
    }
   ],
   "source": [
    "rules = pd.read_csv('C:/Users/anast/Desktop/Results/results-ao-aa-f.csv')\n",
    "rules.head(10)"
   ]
  },
  {
   "cell_type": "markdown",
   "id": "b3d26d54",
   "metadata": {},
   "source": [
    "### Call the ontology extraction function for the test project (Stereo)"
   ]
  },
  {
   "cell_type": "code",
   "execution_count": 4,
   "id": "59f0d39e",
   "metadata": {},
   "outputs": [],
   "source": [
    "ontology(inputPath, outputPath, 1, 'ao-aa-f')"
   ]
  },
  {
   "cell_type": "markdown",
   "id": "09c4526f",
   "metadata": {},
   "source": [
    "### Load the test project saved based on the ontology  "
   ]
  },
  {
   "cell_type": "code",
   "execution_count": 5,
   "id": "96d6bff3",
   "metadata": {},
   "outputs": [],
   "source": [
    "test = pd.read_csv(outputPath, header=None)"
   ]
  },
  {
   "cell_type": "markdown",
   "id": "f6f9a553",
   "metadata": {},
   "source": [
    "### Find which rules apply to the test project"
   ]
  },
  {
   "cell_type": "code",
   "execution_count": 6,
   "id": "01d26172",
   "metadata": {},
   "outputs": [],
   "source": [
    "final = []\n",
    "for i in range(test.__len__()):\n",
    "    for j in range(rules.__len__()):\n",
    "        if test.iloc[i, 0] == rules.iloc[j, 0] and rules.iloc[j, 2] > 0.05:\n",
    "            newRule = test.iloc[i, 0] + \" -> \" + rules.iloc[j, 1]\n",
    "            if newRule in final:\n",
    "                continue\n",
    "            else:\n",
    "                final.append(newRule)"
   ]
  },
  {
   "cell_type": "code",
   "execution_count": 7,
   "id": "b95b9bab",
   "metadata": {},
   "outputs": [
    {
     "data": {
      "text/plain": [
       "['user/login -> user/logout',\n",
       " 'user/login -> user/search',\n",
       " 'user/login -> user/select',\n",
       " 'user/create -> user/delete',\n",
       " 'user/create -> user/edit',\n",
       " 'user/create -> user/login',\n",
       " 'user/create -> user/navigate',\n",
       " 'user/create -> user/search',\n",
       " 'user/create -> user/see',\n",
       " 'user/create -> user/use',\n",
       " 'user/create -> user/view',\n",
       " 'create/account -> user/create',\n",
       " 'create/account -> user/login',\n",
       " 'create/account -> user/search',\n",
       " 'user/add -> user/delete',\n",
       " 'user/add -> user/edit',\n",
       " 'user/add -> user/login',\n",
       " 'user/add -> user/remove',\n",
       " 'user/add -> user/search',\n",
       " 'user/add -> user/select',\n",
       " 'user/add -> user/view',\n",
       " 'user/search -> user/see',\n",
       " 'user/search -> user/select',\n",
       " 'user/search -> user/view']"
      ]
     },
     "execution_count": 7,
     "metadata": {},
     "output_type": "execute_result"
    }
   ],
   "source": [
    "final"
   ]
  }
 ],
 "metadata": {
  "kernelspec": {
   "display_name": "Python 3 (ipykernel)",
   "language": "python",
   "name": "python3"
  },
  "language_info": {
   "codemirror_mode": {
    "name": "ipython",
    "version": 3
   },
   "file_extension": ".py",
   "mimetype": "text/x-python",
   "name": "python",
   "nbconvert_exporter": "python",
   "pygments_lexer": "ipython3",
   "version": "3.9.7"
  }
 },
 "nbformat": 4,
 "nbformat_minor": 5
}
