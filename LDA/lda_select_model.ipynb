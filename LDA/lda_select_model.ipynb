{
 "cells": [
  {
   "cell_type": "markdown",
   "metadata": {},
   "source": [
    "# Topic Coherence"
   ]
  },
  {
   "cell_type": "markdown",
   "metadata": {},
   "source": [
    "In this notebook, topic coherence is calculated for the LDA models trained on the corresponding input that every use case indicates. For each use case, multiple LDA models are trained with number of topics from 2 to 100 or 123, in order to find the optimal number of topics for each use case's LDA model (the one with the largest topic coherence score)."
   ]
  },
  {
   "cell_type": "code",
   "execution_count": 1,
   "metadata": {
    "id": "pw_cR7eB0Xxj"
   },
   "outputs": [],
   "source": [
    "import re, numpy as np, pandas as pd\n",
    "import matplotlib.pyplot as plt\n",
    "import codecs\n",
    "from pprint import pprint\n",
    "# Gensim\n",
    "import gensim, spacy, logging, warnings\n",
    "import gensim.corpora as corpora\n",
    "from gensim.models import CoherenceModel\n",
    "\n",
    "warnings.filterwarnings(\"ignore\",category=DeprecationWarning)\n",
    "logging.basicConfig(format='%(asctime)s : %(levelname)s : %(message)s', level=logging.ERROR)"
   ]
  },
  {
   "cell_type": "markdown",
   "metadata": {},
   "source": [
    "### Load Data for the use cases "
   ]
  },
  {
   "cell_type": "code",
   "execution_count": 2,
   "metadata": {},
   "outputs": [],
   "source": [
    "# Use cases 1 & 3\n",
    "with open(\"C:/Users/anast/Desktop/Thesis/MachineLearning/Ontology/DatasetOntology/all.txt\") as f:\n",
    "    data = f.read().splitlines()\n",
    "\n",
    "# Use cases 2 & 4\n",
    "# with open(\"C:/Users/anast/Desktop/Thesis/MachineLearning/Data/datasetProjects.txt\") as f:\n",
    "#     data = f.read().splitlines()\n",
    "\n",
    "# # Use Cases 5 & 7\n",
    "# with open(\"C:/Users/anast/Desktop/Thesis/MachineLearning/Ontology/DatasetOntology/Th-Ur-all.txt\") as f:\n",
    "#     data = f.read().splitlines()\n",
    "\n",
    "# # Use Cases 6 & 8\n",
    "# with open(\"C:/Users/anast/Desktop/Thesis/MachineLearning/Data/Th-Ur-Projects.txt\") as f:\n",
    "#     data = f.read().splitlines()"
   ]
  },
  {
   "cell_type": "markdown",
   "metadata": {},
   "source": [
    "### Preprocessing of data\n",
    "- Exclude the words of common functioanallity according to the use cases 3,4,7,8\n",
    "- Clean from numbers, punctuation and stop words\n",
    "- Lemmatize the words"
   ]
  },
  {
   "cell_type": "code",
   "execution_count": 3,
   "metadata": {
    "colab": {
     "base_uri": "https://localhost:8080/"
    },
    "id": "6YMjQzrHrJE8",
    "outputId": "381e5bea-2696-4b01-8648-b7c1f0970d35",
    "scrolled": true
   },
   "outputs": [],
   "source": [
    "exclude = []\n",
    "rules = pd.read_csv('C:/Users/anast/Desktop/Results/results-all1.csv')\n",
    "rules = rules[(rules['Support']>0.2)][['Left Hand Side', 'Right Hand Side']]\n",
    "exclude.extend(rules['Left Hand Side'].tolist())\n",
    "exclude.extend(rules['Right Hand Side'].tolist())\n",
    "exclude = list(dict.fromkeys(exclude))\n",
    "exclude.extend(['datum', 'administrator', 'log', 'know', 'able', 'ability'])\n",
    "# exclude = []\n",
    "# exclude.extend(['able', 'ability'])\n",
    "# exclude = []\n",
    "\n",
    "nlp = spacy.load(\"en_core_web_lg\")\n",
    "# Clean the data from numbers, punctuation and stop words\n",
    "clean_corpus = []\n",
    "for line in data:\n",
    "    doc = nlp(line)\n",
    "    cleanData = []\n",
    "    for token in doc:\n",
    "        if not token.is_alpha:\n",
    "            continue\n",
    "        elif token.is_stop:\n",
    "            continue\n",
    "        elif token.pos_ == \"PUNCT\":\n",
    "            continue\n",
    "        elif token.text in exclude:\n",
    "            continue\n",
    "        elif token.lemma_ in exclude:\n",
    "            continue \n",
    "        else:\n",
    "            cleanData.append(token.lemma_)\n",
    "    clean_corpus.append(cleanData)"
   ]
  },
  {
   "cell_type": "markdown",
   "metadata": {},
   "source": [
    "### Build the bigram and trigram models"
   ]
  },
  {
   "cell_type": "code",
   "execution_count": 4,
   "metadata": {},
   "outputs": [],
   "source": [
    "# Build the bigram and trigram models\n",
    "bigram = gensim.models.Phrases(clean_corpus, min_count=5, threshold=100) # higher threshold fewer phrases.\n",
    "trigram = gensim.models.Phrases(bigram[clean_corpus], threshold=100)\n",
    "bigram_mod = gensim.models.phrases.Phraser(bigram)\n",
    "trigram_mod = gensim.models.phrases.Phraser(trigram)\n",
    "\n",
    "texts = [bigram_mod[doc] for doc in clean_corpus]\n",
    "texts = [trigram_mod[bigram_mod[doc]] for doc in texts]\n",
    "\n",
    "data_ready = texts"
   ]
  },
  {
   "cell_type": "markdown",
   "metadata": {},
   "source": [
    "### Create the dictionary and the corpus"
   ]
  },
  {
   "cell_type": "code",
   "execution_count": 5,
   "metadata": {},
   "outputs": [],
   "source": [
    "# Create Dictionary\n",
    "id2word = corpora.Dictionary(data_ready)\n",
    "\n",
    "# Create Corpus: Term Document Frequency\n",
    "corpus = [id2word.doc2bow(text) for text in data_ready]"
   ]
  },
  {
   "cell_type": "code",
   "execution_count": 6,
   "metadata": {
    "colab": {
     "base_uri": "https://localhost:8080/"
    },
    "id": "higlq_Ii7iHs",
    "outputId": "8a4ca1ca-2896-447d-bbfb-fd8e1d7a5445"
   },
   "outputs": [],
   "source": [
    "def compute_coherence_values(dictionary, corpus, texts, limit, start=2, step=3):\n",
    "    \"\"\"\n",
    "    Compute c_v coherence for various number of topics\n",
    "\n",
    "    Parameters:\n",
    "    ----------\n",
    "    dictionary : Gensim dictionary\n",
    "    corpus : Gensim corpus\n",
    "    texts : List of input texts\n",
    "    limit : Max num of topics\n",
    "\n",
    "    Returns:\n",
    "    -------\n",
    "    model_list : List of LDA topic models\n",
    "    coherence_values : Coherence values corresponding to the LDA model with respective number of topics\n",
    "    \"\"\"\n",
    "    coherence_values = []\n",
    "    model_list = []\n",
    "    for num_topics in range(start, limit, step):\n",
    "        model = gensim.models.ldamodel.LdaModel(corpus=corpus,\n",
    "                                           id2word=id2word,\n",
    "                                           num_topics=num_topics,\n",
    "                                           random_state=100,\n",
    "                                           update_every=1,\n",
    "                                           chunksize=10,\n",
    "                                           passes=10,\n",
    "                                           alpha='symmetric',\n",
    "                                           iterations=100,\n",
    "                                           per_word_topics=True)\n",
    "\n",
    "        model_list.append(model)\n",
    "        coherencemodel = CoherenceModel(model=model, texts=texts, dictionary=dictionary, coherence='c_v')\n",
    "        coherence_values.append(coherencemodel.get_coherence())\n",
    "\n",
    "    return model_list, coherence_values"
   ]
  },
  {
   "cell_type": "code",
   "execution_count": 7,
   "metadata": {
    "scrolled": true
   },
   "outputs": [],
   "source": [
    "start = 2\n",
    "limit = 123 # 123 for the use cases 1-4, 100 for the use cases 5-8\n",
    "step = 1\n",
    "model_list, coherence_values = compute_coherence_values(dictionary=id2word, corpus=corpus, texts=data_ready, start=start, limit=limit, step=step)"
   ]
  },
  {
   "cell_type": "markdown",
   "metadata": {},
   "source": [
    "### Topic coherence plot"
   ]
  },
  {
   "cell_type": "code",
   "execution_count": 8,
   "metadata": {
    "colab": {
     "base_uri": "https://localhost:8080/",
     "height": 279
    },
    "id": "q8heGtxx8wob",
    "outputId": "77b5561f-ec3d-469d-cf6e-facdd5f2395b"
   },
   "outputs": [
    {
     "data": {
      "image/png": "[encoded data removed]",
      "text/plain": [
       "<Figure size 432x288 with 1 Axes>"
      ]
     },
     "metadata": {
      "needs_background": "light"
     },
     "output_type": "display_data"
    }
   ],
   "source": [
    "# Show graph\n",
    "limit=limit; start=start; step=step;\n",
    "x = range(start, limit, step)\n",
    "plt.plot(x, coherence_values)\n",
    "plt.xlabel(\"Num Topics\")\n",
    "plt.ylabel(\"Coherence score\")\n",
    "# plt.legend((\"coherence_values\"), loc='best')\n",
    "plt.title('Whole Projets')\n",
    "plt.savefig('../../coherence.jpg')\n",
    "plt.show()"
   ]
  },
  {
   "cell_type": "markdown",
   "metadata": {},
   "source": [
    "### Sort number of topics based on topic coherence"
   ]
  },
  {
   "cell_type": "code",
   "execution_count": 9,
   "metadata": {
    "colab": {
     "base_uri": "https://localhost:8080/",
     "height": 424
    },
    "id": "R_mo5GfXOyPA",
    "outputId": "edad41e8-4d42-4554-81f5-6518a7fc3994"
   },
   "outputs": [
    {
     "data": {
      "text/html": [
       "<div>\n",
       "<style scoped>\n",
       "    .dataframe tbody tr th:only-of-type {\n",
       "        vertical-align: middle;\n",
       "    }\n",
       "\n",
       "    .dataframe tbody tr th {\n",
       "        vertical-align: top;\n",
       "    }\n",
       "\n",
       "    .dataframe thead th {\n",
       "        text-align: right;\n",
       "    }\n",
       "</style>\n",
       "<table border=\"1\" class=\"dataframe\">\n",
       "  <thead>\n",
       "    <tr style=\"text-align: right;\">\n",
       "      <th></th>\n",
       "      <th>Topics</th>\n",
       "      <th>Coherence</th>\n",
       "    </tr>\n",
       "  </thead>\n",
       "  <tbody>\n",
       "    <tr>\n",
       "      <th>12</th>\n",
       "      <td>14</td>\n",
       "      <td>0.487682</td>\n",
       "    </tr>\n",
       "    <tr>\n",
       "      <th>11</th>\n",
       "      <td>13</td>\n",
       "      <td>0.464930</td>\n",
       "    </tr>\n",
       "    <tr>\n",
       "      <th>10</th>\n",
       "      <td>12</td>\n",
       "      <td>0.447979</td>\n",
       "    </tr>\n",
       "    <tr>\n",
       "      <th>9</th>\n",
       "      <td>11</td>\n",
       "      <td>0.402699</td>\n",
       "    </tr>\n",
       "    <tr>\n",
       "      <th>7</th>\n",
       "      <td>9</td>\n",
       "      <td>0.384164</td>\n",
       "    </tr>\n",
       "    <tr>\n",
       "      <th>8</th>\n",
       "      <td>10</td>\n",
       "      <td>0.379881</td>\n",
       "    </tr>\n",
       "    <tr>\n",
       "      <th>5</th>\n",
       "      <td>7</td>\n",
       "      <td>0.368363</td>\n",
       "    </tr>\n",
       "    <tr>\n",
       "      <th>0</th>\n",
       "      <td>2</td>\n",
       "      <td>0.365385</td>\n",
       "    </tr>\n",
       "    <tr>\n",
       "      <th>4</th>\n",
       "      <td>6</td>\n",
       "      <td>0.360062</td>\n",
       "    </tr>\n",
       "    <tr>\n",
       "      <th>6</th>\n",
       "      <td>8</td>\n",
       "      <td>0.358733</td>\n",
       "    </tr>\n",
       "  </tbody>\n",
       "</table>\n",
       "</div>"
      ],
      "text/plain": [
       "    Topics  Coherence\n",
       "12      14   0.487682\n",
       "11      13   0.464930\n",
       "10      12   0.447979\n",
       "9       11   0.402699\n",
       "7        9   0.384164\n",
       "8       10   0.379881\n",
       "5        7   0.368363\n",
       "0        2   0.365385\n",
       "4        6   0.360062\n",
       "6        8   0.358733"
      ]
     },
     "execution_count": 9,
     "metadata": {},
     "output_type": "execute_result"
    }
   ],
   "source": [
    "c = pd.DataFrame({'Topics':x, 'Coherence':coherence_values})\n",
    "c = c.sort_values('Coherence', axis=0, ascending=False)\n",
    "c.to_csv('../../coherence.csv')\n",
    "c.head(10)"
   ]
  }
 ],
 "metadata": {
  "colab": {
   "name": "lda_select_model.ipynb",
   "provenance": []
  },
  "kernelspec": {
   "display_name": "Python 3 (ipykernel)",
   "language": "python",
   "name": "python3"
  },
  "language_info": {
   "codemirror_mode": {
    "name": "ipython",
    "version": 3
   },
   "file_extension": ".py",
   "mimetype": "text/x-python",
   "name": "python",
   "nbconvert_exporter": "python",
   "pygments_lexer": "ipython3",
   "version": "3.9.7"
  }
 },
 "nbformat": 4,
 "nbformat_minor": 1
}
