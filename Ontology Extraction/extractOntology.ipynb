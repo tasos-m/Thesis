{
 "cells": [
  {
   "cell_type": "markdown",
   "id": "27aac760",
   "metadata": {},
   "source": [
    "# Extract Ontology"
   ]
  },
  {
   "cell_type": "code",
   "execution_count": 1,
   "id": "a3a6429b",
   "metadata": {},
   "outputs": [],
   "source": [
    "# Import the ontology function\n",
    "from ontology import ontology"
   ]
  },
  {
   "cell_type": "markdown",
   "id": "a4201154",
   "metadata": {},
   "source": [
    "## Extract the ontology at \"all\" save mode"
   ]
  },
  {
   "cell_type": "code",
   "execution_count": 2,
   "id": "ac1a8072",
   "metadata": {
    "scrolled": true
   },
   "outputs": [],
   "source": [
    "inputPath = 'C:/Users/anast/Desktop/Thesis/MachineLearning/Data/Dataset'\n",
    "outputPath = 'C:/Users/anast/Desktop/Thesis/MachineLearning/Ontology/DatasetOntology/all'\n",
    "ontology(inputPath, outputPath, 123, 'all')"
   ]
  },
  {
   "cell_type": "markdown",
   "id": "7e261941",
   "metadata": {},
   "source": [
    "## Extract the ontology at \"ao-aa-f\" save mode"
   ]
  },
  {
   "cell_type": "code",
   "execution_count": 3,
   "id": "53b3f59c",
   "metadata": {},
   "outputs": [],
   "source": [
    "inputPath = 'C:/Users/anast/Desktop/Thesis/MachineLearning/Data/Dataset'\n",
    "outputPath = 'C:/Users/anast/Desktop/Thesis/MachineLearning/Ontology/DatasetOntology/ao-aa-f-v2'\n",
    "ontology(inputPath, outputPath, 123, 'ao-aa-f')"
   ]
  }
 ],
 "metadata": {
  "kernelspec": {
   "display_name": "Python 3 (ipykernel)",
   "language": "python",
   "name": "python3"
  },
  "language_info": {
   "codemirror_mode": {
    "name": "ipython",
    "version": 3
   },
   "file_extension": ".py",
   "mimetype": "text/x-python",
   "name": "python",
   "nbconvert_exporter": "python",
   "pygments_lexer": "ipython3",
   "version": "3.9.7"
  }
 },
 "nbformat": 4,
 "nbformat_minor": 5
}
