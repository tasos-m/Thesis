{
 "cells": [
  {
   "cell_type": "markdown",
   "id": "fff69da1",
   "metadata": {},
   "source": [
    "# Clustering using TFIDF"
   ]
  },
  {
   "cell_type": "code",
   "execution_count": 1,
   "id": "1fcc074c",
   "metadata": {},
   "outputs": [],
   "source": [
    "import spacy\n",
    "from sklearn.feature_extraction.text import TfidfVectorizer\n",
    "from sklearn.metrics.pairwise import cosine_similarity\n",
    "import matplotlib.pyplot as plt\n",
    "from scipy.cluster.hierarchy import ward, dendrogram, single, complete\n",
    "import pandas as pd"
   ]
  },
  {
   "cell_type": "markdown",
   "id": "fa2c31da",
   "metadata": {},
   "source": [
    "### Load Data and their titles for the use cases 3 & 4"
   ]
  },
  {
   "cell_type": "code",
   "execution_count": 2,
   "id": "bc400cd8",
   "metadata": {},
   "outputs": [],
   "source": [
    "# with open('C:/Users/anast/Desktop/Thesis/MachineLearning/datasetTitles.txt') as t:\n",
    "#     titles = t.read().splitlines()\n",
    "    \n",
    "# # Use Case 3\n",
    "# with open(\"C:/Users/anast/Desktop/Thesis/MachineLearning/Ontology/DatasetOntology/all.txt\") as f:\n",
    "#     data = f.read().splitlines()\n",
    "\n",
    "# # Use Case 4\n",
    "# with open(\"C:/Users/anast/Desktop/Thesis/MachineLearning/Data/datasetProjects.txt\") as f:\n",
    "#     data = f.read().splitlines()  "
   ]
  },
  {
   "cell_type": "markdown",
   "id": "c372c0da",
   "metadata": {},
   "source": [
    "### Load Data and their titles for the use cases 7 & 8"
   ]
  },
  {
   "cell_type": "code",
   "execution_count": 3,
   "id": "34fe992c",
   "metadata": {},
   "outputs": [],
   "source": [
    "with open('C:/Users/anast/Desktop/Thesis/MachineLearning/Th-Ur-Titles.txt') as t:\n",
    "    titles = t.read().splitlines()\n",
    "    \n",
    "# # Use Case 7\n",
    "# with open(\"C:/Users/anast/Desktop/Thesis/MachineLearning/Ontology/DatasetOntology/Th-Ur-all.txt\") as f:\n",
    "#     data = f.read().splitlines()\n",
    "\n",
    "# Use Case 8\n",
    "with open(\"C:/Users/anast/Desktop/Thesis/MachineLearning/Data/Th-Ur-Projects.txt\") as f:\n",
    "    data = f.read().splitlines()"
   ]
  },
  {
   "cell_type": "markdown",
   "id": "60d4ff84",
   "metadata": {},
   "source": [
    "### Number of clusters"
   ]
  },
  {
   "cell_type": "code",
   "execution_count": 4,
   "id": "0d3f1dab",
   "metadata": {},
   "outputs": [],
   "source": [
    "n_clusters = 10"
   ]
  },
  {
   "cell_type": "markdown",
   "id": "ec51dcde",
   "metadata": {},
   "source": [
    "### Preprocessing of data\n",
    "- Exclude the words of common functioanallity according to the use cases 3,4,7,8\n",
    "- Clean from numbers, punctuation and stop words\n",
    "- Lemmatize the words"
   ]
  },
  {
   "cell_type": "code",
   "execution_count": 5,
   "id": "9059260e",
   "metadata": {},
   "outputs": [],
   "source": [
    "nlp = spacy.load('en_core_web_lg')\n",
    "\n",
    "exclude = []\n",
    "rules = pd.read_csv('C:/Users/anast/Desktop/Results/results-all1.csv')\n",
    "rules = rules[(rules['Support']>0.2)][['Left Hand Side', 'Right Hand Side']]\n",
    "exclude.extend(rules['Left Hand Side'].tolist())\n",
    "exclude.extend(rules['Right Hand Side'].tolist())\n",
    "exclude = list(dict.fromkeys(exclude))\n",
    "exclude.extend(['datum', 'administrator', 'log', 'know', 'able', 'ability'])\n",
    "\n",
    "# Clean the data from numbers, punctuation and stop words and lemmatize\n",
    "all_docs = []\n",
    "for line in data:\n",
    "    doc = nlp(line)\n",
    "    cleanData = []\n",
    "    for token in doc:\n",
    "        if not token.is_alpha:\n",
    "            continue\n",
    "        elif token.is_stop:\n",
    "            continue\n",
    "        elif token.pos_ == \"PUNCT\":\n",
    "            continue\n",
    "        elif token.text in exclude:\n",
    "            continue\n",
    "        elif token.lemma_ in exclude:\n",
    "            continue \n",
    "        else:\n",
    "            cleanData.append(token.lemma_)\n",
    "    all_docs.append(\" \".join(cleanData))"
   ]
  },
  {
   "cell_type": "markdown",
   "id": "563d4121",
   "metadata": {},
   "source": [
    "### Load the testing project (Stereo)"
   ]
  },
  {
   "cell_type": "code",
   "execution_count": 6,
   "id": "6600f58c",
   "metadata": {},
   "outputs": [],
   "source": [
    "# Test Data \n",
    "with open(\"C:/Users/anast/Desktop/testDataLDA.txt\") as f:\n",
    "    testdata = f.read().splitlines()"
   ]
  },
  {
   "cell_type": "markdown",
   "id": "cab83171",
   "metadata": {},
   "source": [
    "### Apply the same preprocessing steps as the training data"
   ]
  },
  {
   "cell_type": "code",
   "execution_count": 7,
   "id": "ea32bc35",
   "metadata": {},
   "outputs": [
    {
     "data": {
      "text/plain": [
       "'email password song playlist personal info profile playlist follow keyword'"
      ]
     },
     "execution_count": 7,
     "metadata": {},
     "output_type": "execute_result"
    }
   ],
   "source": [
    "# Clean the data from numbers, punctuation and stop words\n",
    "clean_corpus_test = []\n",
    "for line in testdata:\n",
    "    doc = nlp(line)\n",
    "    cleanData = []\n",
    "    for token in doc:\n",
    "        if not token.is_alpha:\n",
    "            continue\n",
    "        elif token.is_stop:\n",
    "            continue\n",
    "        elif token.pos_ == \"PUNCT\":\n",
    "            continue\n",
    "        elif token.text in exclude:\n",
    "            continue\n",
    "        elif token.lemma_ in exclude:\n",
    "            continue \n",
    "        else:\n",
    "            cleanData.append(token.lemma_)\n",
    "\n",
    "cleanData = \" \".join(cleanData)\n",
    "all_docs.append(cleanData)\n",
    "titles.append('Stereo')\n",
    "cleanData"
   ]
  },
  {
   "cell_type": "markdown",
   "id": "cc3620b4",
   "metadata": {},
   "source": [
    "### Use the TF-IDF algorithm to vectorize the data"
   ]
  },
  {
   "cell_type": "code",
   "execution_count": 8,
   "id": "16a85203",
   "metadata": {},
   "outputs": [
    {
     "name": "stdout",
     "output_type": "stream",
     "text": [
      "['comment', 'list', 'manage', 'message', 'notify', 'order', 'profile', 'rate', 'register', 'send', 'upload']\n",
      "(101, 11)\n"
     ]
    }
   ],
   "source": [
    "# Tf-Idf Vectorizer\n",
    "vectorizer = TfidfVectorizer(max_df=0.8, max_features=200000, min_df=0.14,  stop_words='english',\n",
    "                             use_idf=True, norm=None)\n",
    "tfidf_matrix = vectorizer.fit_transform(all_docs)\n",
    "feature_names = vectorizer.get_feature_names()\n",
    "dense = tfidf_matrix.todense()\n",
    "denselist = dense.tolist()\n",
    "print(feature_names)\n",
    "# print(denselist)\n",
    "print(tfidf_matrix.shape)\n",
    "# Similarity\n",
    "dist = 1 - cosine_similarity(tfidf_matrix)\n",
    "# print(dist)"
   ]
  },
  {
   "cell_type": "markdown",
   "id": "6e9a6a2a",
   "metadata": {},
   "source": [
    "### Train a hierarchical clustering model"
   ]
  },
  {
   "cell_type": "code",
   "execution_count": 9,
   "id": "6ce17cde",
   "metadata": {
    "scrolled": true
   },
   "outputs": [],
   "source": [
    "from sklearn.cluster import AgglomerativeClustering\n",
    "hc = AgglomerativeClustering(n_clusters = n_clusters, affinity = 'euclidean', linkage = 'ward')\n",
    "y_hc = hc.fit_predict(dist)"
   ]
  },
  {
   "cell_type": "markdown",
   "id": "bbeeeabe",
   "metadata": {},
   "source": [
    "### Organize the results in a data frame"
   ]
  },
  {
   "cell_type": "code",
   "execution_count": 10,
   "id": "1ad6c2c0",
   "metadata": {
    "scrolled": true
   },
   "outputs": [
    {
     "data": {
      "text/html": [
       "<div>\n",
       "<style scoped>\n",
       "    .dataframe tbody tr th:only-of-type {\n",
       "        vertical-align: middle;\n",
       "    }\n",
       "\n",
       "    .dataframe tbody tr th {\n",
       "        vertical-align: top;\n",
       "    }\n",
       "\n",
       "    .dataframe thead th {\n",
       "        text-align: right;\n",
       "    }\n",
       "</style>\n",
       "<table border=\"1\" class=\"dataframe\">\n",
       "  <thead>\n",
       "    <tr style=\"text-align: right;\">\n",
       "      <th></th>\n",
       "      <th>Project</th>\n",
       "      <th>Cluster</th>\n",
       "    </tr>\n",
       "  </thead>\n",
       "  <tbody>\n",
       "    <tr>\n",
       "      <th>1</th>\n",
       "      <td>BuySafe</td>\n",
       "      <td>3</td>\n",
       "    </tr>\n",
       "    <tr>\n",
       "      <th>14</th>\n",
       "      <td>ProjectPlay</td>\n",
       "      <td>3</td>\n",
       "    </tr>\n",
       "    <tr>\n",
       "      <th>41</th>\n",
       "      <td>Project mob (team 20)</td>\n",
       "      <td>3</td>\n",
       "    </tr>\n",
       "    <tr>\n",
       "      <th>50</th>\n",
       "      <td>eSoula</td>\n",
       "      <td>3</td>\n",
       "    </tr>\n",
       "    <tr>\n",
       "      <th>82</th>\n",
       "      <td>SE 2021 Project - 7</td>\n",
       "      <td>3</td>\n",
       "    </tr>\n",
       "    <tr>\n",
       "      <th>88</th>\n",
       "      <td>SE 2021 Project - 14</td>\n",
       "      <td>3</td>\n",
       "    </tr>\n",
       "    <tr>\n",
       "      <th>89</th>\n",
       "      <td>SE 2021 Project - 15</td>\n",
       "      <td>3</td>\n",
       "    </tr>\n",
       "    <tr>\n",
       "      <th>91</th>\n",
       "      <td>SE 2021 Project - 17</td>\n",
       "      <td>3</td>\n",
       "    </tr>\n",
       "    <tr>\n",
       "      <th>94</th>\n",
       "      <td>Rapix</td>\n",
       "      <td>3</td>\n",
       "    </tr>\n",
       "    <tr>\n",
       "      <th>100</th>\n",
       "      <td>Stereo</td>\n",
       "      <td>3</td>\n",
       "    </tr>\n",
       "  </tbody>\n",
       "</table>\n",
       "</div>"
      ],
      "text/plain": [
       "                   Project  Cluster\n",
       "1                  BuySafe        3\n",
       "14             ProjectPlay        3\n",
       "41   Project mob (team 20)        3\n",
       "50                  eSoula        3\n",
       "82     SE 2021 Project - 7        3\n",
       "88    SE 2021 Project - 14        3\n",
       "89    SE 2021 Project - 15        3\n",
       "91    SE 2021 Project - 17        3\n",
       "94                   Rapix        3\n",
       "100                 Stereo        3"
      ]
     },
     "execution_count": 10,
     "metadata": {},
     "output_type": "execute_result"
    }
   ],
   "source": [
    "titlesDF = pd.DataFrame(titles, columns = ['Project'])\n",
    "clusterDF = pd.DataFrame(y_hc, columns = ['Cluster'])\n",
    "results = pd.concat([titlesDF, clusterDF], axis =1)\n",
    "# Find which projects belong to the cluster of the last one (testing project)\n",
    "results[results.Cluster == results.iloc[-1, 1]]"
   ]
  },
  {
   "cell_type": "markdown",
   "id": "f98cc670",
   "metadata": {},
   "source": [
    "### Cluster of the testing project"
   ]
  },
  {
   "cell_type": "code",
   "execution_count": 11,
   "id": "78fa5b43",
   "metadata": {},
   "outputs": [
    {
     "data": {
      "text/plain": [
       "1                    BuySafe\n",
       "14               ProjectPlay\n",
       "41     Project mob (team 20)\n",
       "50                    eSoula\n",
       "82       SE 2021 Project - 7\n",
       "88      SE 2021 Project - 14\n",
       "89      SE 2021 Project - 15\n",
       "91      SE 2021 Project - 17\n",
       "94                     Rapix\n",
       "100                   Stereo\n",
       "Name: Project, dtype: object"
      ]
     },
     "execution_count": 11,
     "metadata": {},
     "output_type": "execute_result"
    }
   ],
   "source": [
    "results[results.Cluster == results.iloc[-1, 1]]['Project']"
   ]
  }
 ],
 "metadata": {
  "kernelspec": {
   "display_name": "Python 3 (ipykernel)",
   "language": "python",
   "name": "python3"
  },
  "language_info": {
   "codemirror_mode": {
    "name": "ipython",
    "version": 3
   },
   "file_extension": ".py",
   "mimetype": "text/x-python",
   "name": "python",
   "nbconvert_exporter": "python",
   "pygments_lexer": "ipython3",
   "version": "3.9.7"
  }
 },
 "nbformat": 4,
 "nbformat_minor": 5
}
